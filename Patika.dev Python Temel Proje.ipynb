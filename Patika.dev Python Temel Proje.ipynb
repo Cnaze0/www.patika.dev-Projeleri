{
 "cells": [
  {
   "cell_type": "code",
   "execution_count": 51,
   "id": "9e23f15c",
   "metadata": {},
   "outputs": [],
   "source": [
    "def flatten(x):\n",
    "    flatten_list = []\n",
    "    def loop(y):\n",
    "        for i in y:\n",
    "            if isinstance(i, list):\n",
    "                loop(i)\n",
    "            else:\n",
    "                flatten_list.append(i)\n",
    "    loop(x)\n",
    "    return flatten_list"
   ]
  },
  {
   "cell_type": "code",
   "execution_count": 52,
   "id": "bf08e396",
   "metadata": {},
   "outputs": [
    {
     "data": {
      "text/plain": [
       "[1, 'a', 'cat', 2, 3, 'dog', 4, 5]"
      ]
     },
     "execution_count": 52,
     "metadata": {},
     "output_type": "execute_result"
    }
   ],
   "source": [
    "flatten([[1,'a',['cat'],2],[[[3]],'dog'],4,5])"
   ]
  },
  {
   "cell_type": "code",
   "execution_count": 53,
   "id": "ccae22d7",
   "metadata": {},
   "outputs": [],
   "source": [
    "def reverse(list1):\n",
    "    for i in range(len(list1)):\n",
    "        list1[i].reverse()\n",
    "\n",
    "    list1.reverse()\n",
    "    return list1"
   ]
  },
  {
   "cell_type": "code",
   "execution_count": 54,
   "id": "06e0463e",
   "metadata": {},
   "outputs": [
    {
     "data": {
      "text/plain": [
       "[[7, 6, 5], [4, 3], [2, 1]]"
      ]
     },
     "execution_count": 54,
     "metadata": {},
     "output_type": "execute_result"
    }
   ],
   "source": [
    "reverse([[1, 2], [3, 4], [5, 6, 7]])"
   ]
  }
 ],
 "metadata": {
  "kernelspec": {
   "display_name": "Python 3 (ipykernel)",
   "language": "python",
   "name": "python3"
  },
  "language_info": {
   "codemirror_mode": {
    "name": "ipython",
    "version": 3
   },
   "file_extension": ".py",
   "mimetype": "text/x-python",
   "name": "python",
   "nbconvert_exporter": "python",
   "pygments_lexer": "ipython3",
   "version": "3.9.12"
  }
 },
 "nbformat": 4,
 "nbformat_minor": 5
}
